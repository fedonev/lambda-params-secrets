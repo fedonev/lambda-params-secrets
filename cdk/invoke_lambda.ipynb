{
 "cells": [
  {
   "cell_type": "markdown",
   "metadata": {},
   "source": [
    "# Invoke a Lambda"
   ]
  },
  {
   "cell_type": "code",
   "execution_count": null,
   "metadata": {},
   "outputs": [],
   "source": [
    "import boto3\n",
    "#import json\n",
    "\n",
    "session = boto3.Session() # default profile, default region\n",
    "client = session.client(\"lambda\")\n",
    "\n",
    "from cdk_artefact import get_output"
   ]
  },
  {
   "cell_type": "markdown",
   "metadata": {},
   "source": [
    "Invoke the test Lambda function."
   ]
  },
  {
   "cell_type": "code",
   "execution_count": null,
   "metadata": {},
   "outputs": [],
   "source": [
    "from base64 import b64decode\n",
    "import json\n",
    "\n",
    "func_name = get_output(\"FunctionName\", \"LambdaPSExtensionStack\")\n",
    "\n",
    "print(\"invoke Lambda function:\", func_name)\n",
    "\n",
    "res = client.invoke(\n",
    "    FunctionName=func_name, InvocationType=\"RequestResponse\", LogType=\"Tail\"\n",
    ")\n",
    "\n",
    "log_tail = b64decode(res[\"LogResult\"])\n",
    "print(log_tail.decode(\"utf-8\"))\n",
    "\n",
    "payload = json.loads(res[\"Payload\"].read().decode('utf-8'))\n",
    "\n",
    "if payload['result'] == 'success':\n",
    "    print(\"✅ the test Lambda function executed successfully\")\n",
    "else:\n",
    "    print(\"❌ the test Lambda function executed with errors\")\n",
    "    print(payload)"
   ]
  }
 ],
 "metadata": {
  "kernelspec": {
   "display_name": "Python 3.10.0 ('aws-py-playground')",
   "language": "python",
   "name": "python3"
  },
  "language_info": {
   "codemirror_mode": {
    "name": "ipython",
    "version": 3
   },
   "file_extension": ".py",
   "mimetype": "text/x-python",
   "name": "python",
   "nbconvert_exporter": "python",
   "pygments_lexer": "ipython3",
   "version": "3.10.0"
  },
  "orig_nbformat": 4,
  "vscode": {
   "interpreter": {
    "hash": "daddd50b7c8e5d7669b8468ac16cad7d23dd9a40d08f24ffcfaafd5dfd3ef227"
   }
  }
 },
 "nbformat": 4,
 "nbformat_minor": 2
}
